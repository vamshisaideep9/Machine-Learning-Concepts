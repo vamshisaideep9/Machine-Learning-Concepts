{
 "cells": [
  {
   "cell_type": "markdown",
   "metadata": {},
   "source": [
    "```python\n",
    "Convolutional neural network --> Good for Image Recognition\n",
    "Long Short-term memory network --> Good for speech Recognition\n",
    "```"
   ]
  },
  {
   "cell_type": "markdown",
   "metadata": {},
   "source": [
    "```python\n",
    "Neural Networks: \n",
    "- Has neurons(Nodes), each neuron has a value between 0 and 1. Thats the greyscale value. 0 indicates black and 1 indicates white.\n",
    "- The number inside the neuron is called \"Activation\".\n",
    "- Each neuron is lit-up when its activation is high number.\n",
    "\n",
    "- Neural networks has \"Hidden Layers\" >= 1\n",
    "- Input Layer --> Hidden layers --> output layer\n",
    "\n",
    "- Hidden layers capture complex patterns in the data.\n",
    "\n",
    "\n",
    "1. Neural Networks are particularly powerful for tasks like image Recognition, natural language processing and speech recognition.\n",
    "\n",
    "Components of neural network:\n",
    "\n",
    "1. Neurons:\n",
    "- Each neuron receives inputs, applies a weight, adds a bias, and passes the result through an activation function.\n",
    "\n",
    "2. Weights and Biases:\n",
    "- Weights: Determine the importance of inputs in the decision-making process.\n",
    "- Biases: Allow the model to shift the output and better fit the data.\n",
    "\n",
    "3. Activation Functions:\n",
    "- These introduce non-linearity, enabling the network to learn complex patterns. Common activation functions include:\n",
    "\n",
    "a) Sigmoid\n",
    "b) ReLU (Rectified Linear Unit)\n",
    "c) Tanh\n",
    "d) softmax\n",
    "\n",
    "More about them in upcoming notes.\n",
    "\n",
    "\n",
    "\n",
    "```"
   ]
  }
 ],
 "metadata": {
  "kernelspec": {
   "display_name": "Python 3",
   "language": "python",
   "name": "python3"
  },
  "language_info": {
   "name": "python",
   "version": "3.12.6"
  }
 },
 "nbformat": 4,
 "nbformat_minor": 2
}
